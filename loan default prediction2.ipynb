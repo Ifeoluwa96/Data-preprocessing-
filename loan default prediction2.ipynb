{
 "cells": [
  {
   "cell_type": "markdown",
   "metadata": {},
   "source": [
    "# Loan default prediction challenge\n",
    "\n",
    "# Data description\n",
    "\n",
    "Kowope Mart is a Nigerian-based retail company with a vision to provide quality goods, education and automobile services to its customers at affordable price and reduce if not eradicate charges on card payments and increase customer satisfaction with credit rewards that can be used within the Mall. To achieve this, the company has partnered with DSBank on co-branded credit card with additional functionality such that customers can request for loan, pay for goods even with zero-balance and then pay back within an agreed period of time. This innovative strategy has increased sales for the company. However, there has been recent cases of credit defaults and Kowope Mart will like to have a system that profiles customers who are worthy of the card with minimum if not zero risk of defaulting.\n",
    "\n",
    "The data set can be accessed using the link below: https://zindi.africa/hackathons/dsn-ai-bootcamp-qualification-hackathon\n",
    "        \n",
    "The basis of the project is to predict customers who are likely to default or not.\n",
    "\n",
    "default_status: defaulted or not. (yes:1, no: 0)"
   ]
  },
  {
   "cell_type": "code",
   "execution_count": 1,
   "metadata": {},
   "outputs": [],
   "source": [
    "import pandas as pd\n",
    "import numpy as np\n",
    "\n",
    "import matplotlib.pyplot as plt\n",
    "% matplotlib inline\n",
    "\n",
    "import seaborn as sns\n",
    "\n",
    "import os, sys\n",
    "import warnings\n",
    "warnings.filterwarnings('ignore')"
   ]
  },
  {
   "cell_type": "code",
   "execution_count": 2,
   "metadata": {},
   "outputs": [],
   "source": [
    "train = pd.read_csv('C:\\Users\\Ife\\Desktop\\Rasheed doc\\loan_train.csv')\n",
    "\n",
    "test = pd.read_csv('C:\\Users\\Ife\\Desktop\\Rasheed doc\\loan_test.csv')"
   ]
  },
  {
   "cell_type": "code",
   "execution_count": 3,
   "metadata": {},
   "outputs": [
    {
     "data": {
      "text/plain": [
       "((56000, 52), (24000, 51))"
      ]
     },
     "execution_count": 3,
     "metadata": {},
     "output_type": "execute_result"
    }
   ],
   "source": [
    "train.shape, test.shape"
   ]
  },
  {
   "cell_type": "code",
   "execution_count": 4,
   "metadata": {},
   "outputs": [],
   "source": [
    "data = train.copy()"
   ]
  },
  {
   "cell_type": "code",
   "execution_count": 5,
   "metadata": {},
   "outputs": [
    {
     "data": {
      "text/html": [
       "<div>\n",
       "<style scoped>\n",
       "    .dataframe tbody tr th:only-of-type {\n",
       "        vertical-align: middle;\n",
       "    }\n",
       "\n",
       "    .dataframe tbody tr th {\n",
       "        vertical-align: top;\n",
       "    }\n",
       "\n",
       "    .dataframe thead th {\n",
       "        text-align: right;\n",
       "    }\n",
       "</style>\n",
       "<table border=\"1\" class=\"dataframe\">\n",
       "  <thead>\n",
       "    <tr style=\"text-align: right;\">\n",
       "      <th></th>\n",
       "      <th>Applicant_ID</th>\n",
       "      <th>form_field1</th>\n",
       "      <th>form_field2</th>\n",
       "      <th>form_field3</th>\n",
       "      <th>form_field4</th>\n",
       "      <th>form_field5</th>\n",
       "      <th>form_field6</th>\n",
       "      <th>form_field7</th>\n",
       "      <th>form_field8</th>\n",
       "      <th>form_field9</th>\n",
       "      <th>...</th>\n",
       "      <th>form_field42</th>\n",
       "      <th>form_field43</th>\n",
       "      <th>form_field44</th>\n",
       "      <th>form_field45</th>\n",
       "      <th>form_field46</th>\n",
       "      <th>form_field47</th>\n",
       "      <th>form_field48</th>\n",
       "      <th>form_field49</th>\n",
       "      <th>form_field50</th>\n",
       "      <th>default_status</th>\n",
       "    </tr>\n",
       "  </thead>\n",
       "  <tbody>\n",
       "    <tr>\n",
       "      <th>0</th>\n",
       "      <td>Apcnt_1000000</td>\n",
       "      <td>3436.0</td>\n",
       "      <td>0.28505</td>\n",
       "      <td>1.6560</td>\n",
       "      <td>0.0</td>\n",
       "      <td>0.000</td>\n",
       "      <td>0.0</td>\n",
       "      <td>10689720.0</td>\n",
       "      <td>252072.0</td>\n",
       "      <td>4272776.0</td>\n",
       "      <td>...</td>\n",
       "      <td>0.392854</td>\n",
       "      <td>2.02</td>\n",
       "      <td>0.711632</td>\n",
       "      <td>0.0</td>\n",
       "      <td>0.0</td>\n",
       "      <td>charge</td>\n",
       "      <td>NaN</td>\n",
       "      <td>1.129518</td>\n",
       "      <td>0.044335</td>\n",
       "      <td>no</td>\n",
       "    </tr>\n",
       "    <tr>\n",
       "      <th>1</th>\n",
       "      <td>Apcnt_1000004</td>\n",
       "      <td>3456.0</td>\n",
       "      <td>0.67400</td>\n",
       "      <td>0.2342</td>\n",
       "      <td>0.0</td>\n",
       "      <td>0.000</td>\n",
       "      <td>0.0</td>\n",
       "      <td>898979.0</td>\n",
       "      <td>497531.0</td>\n",
       "      <td>9073814.0</td>\n",
       "      <td>...</td>\n",
       "      <td>0.314281</td>\n",
       "      <td>8.08</td>\n",
       "      <td>0.183584</td>\n",
       "      <td>NaN</td>\n",
       "      <td>0.0</td>\n",
       "      <td>charge</td>\n",
       "      <td>349.805730</td>\n",
       "      <td>1.620483</td>\n",
       "      <td>0.322436</td>\n",
       "      <td>no</td>\n",
       "    </tr>\n",
       "    <tr>\n",
       "      <th>2</th>\n",
       "      <td>Apcnt_1000008</td>\n",
       "      <td>3276.0</td>\n",
       "      <td>0.53845</td>\n",
       "      <td>3.1510</td>\n",
       "      <td>0.0</td>\n",
       "      <td>6.282</td>\n",
       "      <td>NaN</td>\n",
       "      <td>956940.0</td>\n",
       "      <td>NaN</td>\n",
       "      <td>192944.0</td>\n",
       "      <td>...</td>\n",
       "      <td>0.162965</td>\n",
       "      <td>18.18</td>\n",
       "      <td>0.791136</td>\n",
       "      <td>0.0</td>\n",
       "      <td>0.0</td>\n",
       "      <td>charge</td>\n",
       "      <td>NaN</td>\n",
       "      <td>1.513370</td>\n",
       "      <td>0.011640</td>\n",
       "      <td>yes</td>\n",
       "    </tr>\n",
       "    <tr>\n",
       "      <th>3</th>\n",
       "      <td>Apcnt_1000012</td>\n",
       "      <td>3372.0</td>\n",
       "      <td>0.17005</td>\n",
       "      <td>0.5050</td>\n",
       "      <td>0.0</td>\n",
       "      <td>0.000</td>\n",
       "      <td>192166.0</td>\n",
       "      <td>3044703.0</td>\n",
       "      <td>385499.0</td>\n",
       "      <td>3986472.0</td>\n",
       "      <td>...</td>\n",
       "      <td>0.488884</td>\n",
       "      <td>2.02</td>\n",
       "      <td>0.685168</td>\n",
       "      <td>NaN</td>\n",
       "      <td>0.0</td>\n",
       "      <td>charge</td>\n",
       "      <td>89.940100</td>\n",
       "      <td>0.664452</td>\n",
       "      <td>0.082729</td>\n",
       "      <td>no</td>\n",
       "    </tr>\n",
       "    <tr>\n",
       "      <th>4</th>\n",
       "      <td>Apcnt_1000016</td>\n",
       "      <td>3370.0</td>\n",
       "      <td>0.77270</td>\n",
       "      <td>1.1010</td>\n",
       "      <td>0.0</td>\n",
       "      <td>0.000</td>\n",
       "      <td>1556.0</td>\n",
       "      <td>214728.0</td>\n",
       "      <td>214728.0</td>\n",
       "      <td>1284089.0</td>\n",
       "      <td>...</td>\n",
       "      <td>0.275000</td>\n",
       "      <td>12.12</td>\n",
       "      <td>0.438168</td>\n",
       "      <td>0.0</td>\n",
       "      <td>0.0</td>\n",
       "      <td>charge</td>\n",
       "      <td>97.887502</td>\n",
       "      <td>1.427891</td>\n",
       "      <td>0.045630</td>\n",
       "      <td>no</td>\n",
       "    </tr>\n",
       "  </tbody>\n",
       "</table>\n",
       "<p>5 rows × 52 columns</p>\n",
       "</div>"
      ],
      "text/plain": [
       "    Applicant_ID  form_field1  form_field2  form_field3  form_field4  \\\n",
       "0  Apcnt_1000000       3436.0      0.28505       1.6560          0.0   \n",
       "1  Apcnt_1000004       3456.0      0.67400       0.2342          0.0   \n",
       "2  Apcnt_1000008       3276.0      0.53845       3.1510          0.0   \n",
       "3  Apcnt_1000012       3372.0      0.17005       0.5050          0.0   \n",
       "4  Apcnt_1000016       3370.0      0.77270       1.1010          0.0   \n",
       "\n",
       "   form_field5  form_field6  form_field7  form_field8  form_field9  \\\n",
       "0        0.000          0.0   10689720.0     252072.0    4272776.0   \n",
       "1        0.000          0.0     898979.0     497531.0    9073814.0   \n",
       "2        6.282          NaN     956940.0          NaN     192944.0   \n",
       "3        0.000     192166.0    3044703.0     385499.0    3986472.0   \n",
       "4        0.000       1556.0     214728.0     214728.0    1284089.0   \n",
       "\n",
       "        ...        form_field42  form_field43  form_field44  form_field45  \\\n",
       "0       ...            0.392854          2.02      0.711632           0.0   \n",
       "1       ...            0.314281          8.08      0.183584           NaN   \n",
       "2       ...            0.162965         18.18      0.791136           0.0   \n",
       "3       ...            0.488884          2.02      0.685168           NaN   \n",
       "4       ...            0.275000         12.12      0.438168           0.0   \n",
       "\n",
       "   form_field46  form_field47  form_field48  form_field49  form_field50  \\\n",
       "0           0.0        charge           NaN      1.129518      0.044335   \n",
       "1           0.0        charge    349.805730      1.620483      0.322436   \n",
       "2           0.0        charge           NaN      1.513370      0.011640   \n",
       "3           0.0        charge     89.940100      0.664452      0.082729   \n",
       "4           0.0        charge     97.887502      1.427891      0.045630   \n",
       "\n",
       "   default_status  \n",
       "0              no  \n",
       "1              no  \n",
       "2             yes  \n",
       "3              no  \n",
       "4              no  \n",
       "\n",
       "[5 rows x 52 columns]"
      ]
     },
     "execution_count": 5,
     "metadata": {},
     "output_type": "execute_result"
    }
   ],
   "source": [
    "data.head()"
   ]
  },
  {
   "cell_type": "markdown",
   "metadata": {},
   "source": [
    "# Cleaning data: drop and filling NaN values"
   ]
  },
  {
   "cell_type": "code",
   "execution_count": 6,
   "metadata": {},
   "outputs": [
    {
     "name": "stdout",
     "output_type": "stream",
     "text": [
      "<class 'pandas.core.frame.DataFrame'>\n",
      "RangeIndex: 56000 entries, 0 to 55999\n",
      "Data columns (total 52 columns):\n",
      "Applicant_ID      56000 non-null object\n",
      "form_field1       53471 non-null float64\n",
      "form_field2       52156 non-null float64\n",
      "form_field3       55645 non-null float64\n",
      "form_field4       55645 non-null float64\n",
      "form_field5       55645 non-null float64\n",
      "form_field6       42640 non-null float64\n",
      "form_field7       50837 non-null float64\n",
      "form_field8       42640 non-null float64\n",
      "form_field9       47992 non-null float64\n",
      "form_field10      55645 non-null float64\n",
      "form_field11      24579 non-null float64\n",
      "form_field12      46105 non-null float64\n",
      "form_field13      50111 non-null float64\n",
      "form_field14      56000 non-null float64\n",
      "form_field15      33525 non-null float64\n",
      "form_field16      42964 non-null float64\n",
      "form_field17      44849 non-null float64\n",
      "form_field18      45598 non-null float64\n",
      "form_field19      55996 non-null float64\n",
      "form_field20      55645 non-null float64\n",
      "form_field21      40146 non-null float64\n",
      "form_field22      35600 non-null float64\n",
      "form_field23      27877 non-null float64\n",
      "form_field24      42703 non-null float64\n",
      "form_field25      50550 non-null float64\n",
      "form_field26      48562 non-null float64\n",
      "form_field27      46701 non-null float64\n",
      "form_field28      55645 non-null float64\n",
      "form_field29      55645 non-null float64\n",
      "form_field30      30491 non-null float64\n",
      "form_field31      16592 non-null float64\n",
      "form_field32      50550 non-null float64\n",
      "form_field33      54744 non-null float64\n",
      "form_field34      55645 non-null float64\n",
      "form_field35      32852 non-null float64\n",
      "form_field36      54005 non-null float64\n",
      "form_field37      50550 non-null float64\n",
      "form_field38      55645 non-null float64\n",
      "form_field39      51789 non-null float64\n",
      "form_field40      12271 non-null float64\n",
      "form_field41      17771 non-null float64\n",
      "form_field42      54677 non-null float64\n",
      "form_field43      55432 non-null float64\n",
      "form_field44      50617 non-null float64\n",
      "form_field45      24683 non-null float64\n",
      "form_field46      40096 non-null float64\n",
      "form_field47      56000 non-null object\n",
      "form_field48      35111 non-null float64\n",
      "form_field49      55645 non-null float64\n",
      "form_field50      44944 non-null float64\n",
      "default_status    56000 non-null object\n",
      "dtypes: float64(49), object(3)\n",
      "memory usage: 22.2+ MB\n"
     ]
    }
   ],
   "source": [
    "data.info()"
   ]
  },
  {
   "cell_type": "code",
   "execution_count": 7,
   "metadata": {},
   "outputs": [
    {
     "data": {
      "text/plain": [
       "<matplotlib.axes._subplots.AxesSubplot at 0xb738198>"
      ]
     },
     "execution_count": 7,
     "metadata": {},
     "output_type": "execute_result"
    },
    {
     "data": {
      "image/png": "[encoded data removed]",
      "text/plain": [
       "<Figure size 432x288 with 1 Axes>"
      ]
     },
     "metadata": {
      "needs_background": "light"
     },
     "output_type": "display_data"
    }
   ],
   "source": [
    "sns.countplot('default_status', data = data)"
   ]
  },
  {
   "cell_type": "markdown",
   "metadata": {},
   "source": [
    "# Drop NaN values"
   ]
  },
  {
   "cell_type": "code",
   "execution_count": 8,
   "metadata": {},
   "outputs": [],
   "source": [
    "#Since number of valid entries in some column is too small compared to the overall data, the missing values will be dropped\n",
    "\n",
    "data = data.drop(['form_field6'], axis =1)\n",
    "test = test.drop(['form_field6'], axis =1)"
   ]
  },
  {
   "cell_type": "code",
   "execution_count": 9,
   "metadata": {},
   "outputs": [],
   "source": [
    "data = data.drop(['form_field8'], axis =1)\n",
    "test = test.drop(['form_field8'], axis =1)"
   ]
  },
  {
   "cell_type": "code",
   "execution_count": 10,
   "metadata": {},
   "outputs": [],
   "source": [
    "data = data.drop(['form_field9'], axis =1)\n",
    "test = test.drop(['form_field9'], axis =1)"
   ]
  },
  {
   "cell_type": "code",
   "execution_count": 11,
   "metadata": {},
   "outputs": [],
   "source": [
    "data = data.drop(['form_field11'], axis =1)\n",
    "test = test.drop(['form_field11'], axis =1)"
   ]
  },
  {
   "cell_type": "code",
   "execution_count": 12,
   "metadata": {},
   "outputs": [],
   "source": [
    "data = data.drop(['form_field12'], axis =1)\n",
    "test = test.drop(['form_field12'], axis =1)"
   ]
  },
  {
   "cell_type": "code",
   "execution_count": 13,
   "metadata": {},
   "outputs": [],
   "source": [
    "data = data.drop(['form_field15'], axis =1)\n",
    "test = test.drop(['form_field15'], axis =1)"
   ]
  },
  {
   "cell_type": "code",
   "execution_count": 14,
   "metadata": {},
   "outputs": [],
   "source": [
    "data = data.drop(['form_field16'], axis =1)\n",
    "test = test.drop(['form_field16'], axis =1)"
   ]
  },
  {
   "cell_type": "code",
   "execution_count": 15,
   "metadata": {},
   "outputs": [],
   "source": [
    "data = data.drop(['form_field17'], axis =1)\n",
    "test = test.drop(['form_field17'], axis =1)"
   ]
  },
  {
   "cell_type": "code",
   "execution_count": 16,
   "metadata": {},
   "outputs": [],
   "source": [
    "data = data.drop(['form_field18'], axis =1)\n",
    "test = test.drop(['form_field18'], axis =1)"
   ]
  },
  {
   "cell_type": "code",
   "execution_count": 17,
   "metadata": {},
   "outputs": [],
   "source": [
    "data = data.drop(['form_field21'], axis =1)\n",
    "test = test.drop(['form_field21'], axis =1)"
   ]
  },
  {
   "cell_type": "code",
   "execution_count": 18,
   "metadata": {},
   "outputs": [],
   "source": [
    "data = data.drop(['form_field22'], axis =1)\n",
    "test = test.drop(['form_field22'], axis =1)"
   ]
  },
  {
   "cell_type": "code",
   "execution_count": 19,
   "metadata": {},
   "outputs": [],
   "source": [
    "data = data.drop(['form_field23'], axis =1)\n",
    "test = test.drop(['form_field23'], axis =1)"
   ]
  },
  {
   "cell_type": "code",
   "execution_count": 20,
   "metadata": {},
   "outputs": [],
   "source": [
    "data = data.drop(['form_field24'], axis =1)\n",
    "test = test.drop(['form_field24'], axis =1)"
   ]
  },
  {
   "cell_type": "code",
   "execution_count": 21,
   "metadata": {},
   "outputs": [],
   "source": [
    "data = data.drop(['form_field26'], axis =1)\n",
    "test = test.drop(['form_field26'], axis =1)"
   ]
  },
  {
   "cell_type": "code",
   "execution_count": 22,
   "metadata": {},
   "outputs": [],
   "source": [
    "data = data.drop(['form_field27'], axis =1)\n",
    "test = test.drop(['form_field27'], axis =1)"
   ]
  },
  {
   "cell_type": "code",
   "execution_count": 23,
   "metadata": {},
   "outputs": [],
   "source": [
    "data = data.drop(['form_field30'], axis =1)\n",
    "test = test.drop(['form_field30'], axis =1)"
   ]
  },
  {
   "cell_type": "code",
   "execution_count": 24,
   "metadata": {},
   "outputs": [],
   "source": [
    "data = data.drop(['form_field31'], axis =1)\n",
    "test = test.drop(['form_field31'], axis =1)"
   ]
  },
  {
   "cell_type": "code",
   "execution_count": 25,
   "metadata": {},
   "outputs": [],
   "source": [
    "data = data.drop(['form_field35'], axis =1)\n",
    "test = test.drop(['form_field35'], axis =1)"
   ]
  },
  {
   "cell_type": "code",
   "execution_count": 26,
   "metadata": {},
   "outputs": [],
   "source": [
    "data = data.drop(['form_field40'], axis =1)\n",
    "test = test.drop(['form_field40'], axis =1)"
   ]
  },
  {
   "cell_type": "code",
   "execution_count": 27,
   "metadata": {},
   "outputs": [],
   "source": [
    "data = data.drop(['form_field41'], axis =1)\n",
    "test = test.drop(['form_field41'], axis =1)"
   ]
  },
  {
   "cell_type": "code",
   "execution_count": 28,
   "metadata": {},
   "outputs": [],
   "source": [
    "data = data.drop(['form_field45'], axis =1)\n",
    "test = test.drop(['form_field45'], axis =1)"
   ]
  },
  {
   "cell_type": "code",
   "execution_count": 29,
   "metadata": {},
   "outputs": [],
   "source": [
    "data = data.drop(['form_field46'], axis =1)\n",
    "test = test.drop(['form_field46'], axis =1)"
   ]
  },
  {
   "cell_type": "code",
   "execution_count": 30,
   "metadata": {},
   "outputs": [],
   "source": [
    "data = data.drop(['form_field48'], axis =1)\n",
    "test = test.drop(['form_field48'], axis =1)"
   ]
  },
  {
   "cell_type": "code",
   "execution_count": 31,
   "metadata": {},
   "outputs": [],
   "source": [
    "data = data.drop(['form_field50'], axis =1)\n",
    "test = test.drop(['form_field50'], axis =1)"
   ]
  },
  {
   "cell_type": "code",
   "execution_count": 32,
   "metadata": {
    "scrolled": true
   },
   "outputs": [
    {
     "name": "stdout",
     "output_type": "stream",
     "text": [
      "<class 'pandas.core.frame.DataFrame'>\n",
      "RangeIndex: 56000 entries, 0 to 55999\n",
      "Data columns (total 28 columns):\n",
      "Applicant_ID      56000 non-null object\n",
      "form_field1       53471 non-null float64\n",
      "form_field2       52156 non-null float64\n",
      "form_field3       55645 non-null float64\n",
      "form_field4       55645 non-null float64\n",
      "form_field5       55645 non-null float64\n",
      "form_field7       50837 non-null float64\n",
      "form_field10      55645 non-null float64\n",
      "form_field13      50111 non-null float64\n",
      "form_field14      56000 non-null float64\n",
      "form_field19      55996 non-null float64\n",
      "form_field20      55645 non-null float64\n",
      "form_field25      50550 non-null float64\n",
      "form_field28      55645 non-null float64\n",
      "form_field29      55645 non-null float64\n",
      "form_field32      50550 non-null float64\n",
      "form_field33      54744 non-null float64\n",
      "form_field34      55645 non-null float64\n",
      "form_field36      54005 non-null float64\n",
      "form_field37      50550 non-null float64\n",
      "form_field38      55645 non-null float64\n",
      "form_field39      51789 non-null float64\n",
      "form_field42      54677 non-null float64\n",
      "form_field43      55432 non-null float64\n",
      "form_field44      50617 non-null float64\n",
      "form_field47      56000 non-null object\n",
      "form_field49      55645 non-null float64\n",
      "default_status    56000 non-null object\n",
      "dtypes: float64(25), object(3)\n",
      "memory usage: 12.0+ MB\n"
     ]
    }
   ],
   "source": [
    "data.info()"
   ]
  },
  {
   "cell_type": "code",
   "execution_count": 33,
   "metadata": {},
   "outputs": [
    {
     "data": {
      "text/html": [
       "<div>\n",
       "<style scoped>\n",
       "    .dataframe tbody tr th:only-of-type {\n",
       "        vertical-align: middle;\n",
       "    }\n",
       "\n",
       "    .dataframe tbody tr th {\n",
       "        vertical-align: top;\n",
       "    }\n",
       "\n",
       "    .dataframe thead th {\n",
       "        text-align: right;\n",
       "    }\n",
       "</style>\n",
       "<table border=\"1\" class=\"dataframe\">\n",
       "  <thead>\n",
       "    <tr style=\"text-align: right;\">\n",
       "      <th></th>\n",
       "      <th>Applicant_ID</th>\n",
       "      <th>form_field1</th>\n",
       "      <th>form_field2</th>\n",
       "      <th>form_field3</th>\n",
       "      <th>form_field4</th>\n",
       "      <th>form_field5</th>\n",
       "      <th>form_field7</th>\n",
       "      <th>form_field10</th>\n",
       "      <th>form_field13</th>\n",
       "      <th>form_field14</th>\n",
       "      <th>...</th>\n",
       "      <th>form_field36</th>\n",
       "      <th>form_field37</th>\n",
       "      <th>form_field38</th>\n",
       "      <th>form_field39</th>\n",
       "      <th>form_field42</th>\n",
       "      <th>form_field43</th>\n",
       "      <th>form_field44</th>\n",
       "      <th>form_field47</th>\n",
       "      <th>form_field49</th>\n",
       "      <th>default_status</th>\n",
       "    </tr>\n",
       "  </thead>\n",
       "  <tbody>\n",
       "    <tr>\n",
       "      <th>0</th>\n",
       "      <td>Apcnt_1000000</td>\n",
       "      <td>3436.0</td>\n",
       "      <td>0.28505</td>\n",
       "      <td>1.6560</td>\n",
       "      <td>0.0</td>\n",
       "      <td>0.000</td>\n",
       "      <td>10689720.0</td>\n",
       "      <td>11333126.0</td>\n",
       "      <td>7875694.0</td>\n",
       "      <td>96375139.0</td>\n",
       "      <td>...</td>\n",
       "      <td>12.0</td>\n",
       "      <td>12.0</td>\n",
       "      <td>4.0</td>\n",
       "      <td>0.0</td>\n",
       "      <td>0.392854</td>\n",
       "      <td>2.02</td>\n",
       "      <td>0.711632</td>\n",
       "      <td>charge</td>\n",
       "      <td>1.129518</td>\n",
       "      <td>no</td>\n",
       "    </tr>\n",
       "    <tr>\n",
       "      <th>1</th>\n",
       "      <td>Apcnt_1000004</td>\n",
       "      <td>3456.0</td>\n",
       "      <td>0.67400</td>\n",
       "      <td>0.2342</td>\n",
       "      <td>0.0</td>\n",
       "      <td>0.000</td>\n",
       "      <td>898979.0</td>\n",
       "      <td>2533168.0</td>\n",
       "      <td>2141445.0</td>\n",
       "      <td>28141427.0</td>\n",
       "      <td>...</td>\n",
       "      <td>16.0</td>\n",
       "      <td>24.0</td>\n",
       "      <td>8.0</td>\n",
       "      <td>0.0</td>\n",
       "      <td>0.314281</td>\n",
       "      <td>8.08</td>\n",
       "      <td>0.183584</td>\n",
       "      <td>charge</td>\n",
       "      <td>1.620483</td>\n",
       "      <td>no</td>\n",
       "    </tr>\n",
       "    <tr>\n",
       "      <th>2</th>\n",
       "      <td>Apcnt_1000008</td>\n",
       "      <td>3276.0</td>\n",
       "      <td>0.53845</td>\n",
       "      <td>3.1510</td>\n",
       "      <td>0.0</td>\n",
       "      <td>6.282</td>\n",
       "      <td>956940.0</td>\n",
       "      <td>1079864.0</td>\n",
       "      <td>0.0</td>\n",
       "      <td>16576457.0</td>\n",
       "      <td>...</td>\n",
       "      <td>12.0</td>\n",
       "      <td>0.0</td>\n",
       "      <td>6.0</td>\n",
       "      <td>0.0</td>\n",
       "      <td>0.162965</td>\n",
       "      <td>18.18</td>\n",
       "      <td>0.791136</td>\n",
       "      <td>charge</td>\n",
       "      <td>1.513370</td>\n",
       "      <td>yes</td>\n",
       "    </tr>\n",
       "    <tr>\n",
       "      <th>3</th>\n",
       "      <td>Apcnt_1000012</td>\n",
       "      <td>3372.0</td>\n",
       "      <td>0.17005</td>\n",
       "      <td>0.5050</td>\n",
       "      <td>0.0</td>\n",
       "      <td>0.000</td>\n",
       "      <td>3044703.0</td>\n",
       "      <td>3621979.0</td>\n",
       "      <td>1186839.0</td>\n",
       "      <td>48187375.0</td>\n",
       "      <td>...</td>\n",
       "      <td>4.0</td>\n",
       "      <td>8.0</td>\n",
       "      <td>4.0</td>\n",
       "      <td>1.0</td>\n",
       "      <td>0.488884</td>\n",
       "      <td>2.02</td>\n",
       "      <td>0.685168</td>\n",
       "      <td>charge</td>\n",
       "      <td>0.664452</td>\n",
       "      <td>no</td>\n",
       "    </tr>\n",
       "    <tr>\n",
       "      <th>4</th>\n",
       "      <td>Apcnt_1000016</td>\n",
       "      <td>3370.0</td>\n",
       "      <td>0.77270</td>\n",
       "      <td>1.1010</td>\n",
       "      <td>0.0</td>\n",
       "      <td>0.000</td>\n",
       "      <td>214728.0</td>\n",
       "      <td>361770.0</td>\n",
       "      <td>511535.0</td>\n",
       "      <td>28141427.0</td>\n",
       "      <td>...</td>\n",
       "      <td>24.0</td>\n",
       "      <td>2.0</td>\n",
       "      <td>24.0</td>\n",
       "      <td>0.0</td>\n",
       "      <td>0.275000</td>\n",
       "      <td>12.12</td>\n",
       "      <td>0.438168</td>\n",
       "      <td>charge</td>\n",
       "      <td>1.427891</td>\n",
       "      <td>no</td>\n",
       "    </tr>\n",
       "  </tbody>\n",
       "</table>\n",
       "<p>5 rows × 28 columns</p>\n",
       "</div>"
      ],
      "text/plain": [
       "    Applicant_ID  form_field1  form_field2  form_field3  form_field4  \\\n",
       "0  Apcnt_1000000       3436.0      0.28505       1.6560          0.0   \n",
       "1  Apcnt_1000004       3456.0      0.67400       0.2342          0.0   \n",
       "2  Apcnt_1000008       3276.0      0.53845       3.1510          0.0   \n",
       "3  Apcnt_1000012       3372.0      0.17005       0.5050          0.0   \n",
       "4  Apcnt_1000016       3370.0      0.77270       1.1010          0.0   \n",
       "\n",
       "   form_field5  form_field7  form_field10  form_field13  form_field14  \\\n",
       "0        0.000   10689720.0    11333126.0     7875694.0    96375139.0   \n",
       "1        0.000     898979.0     2533168.0     2141445.0    28141427.0   \n",
       "2        6.282     956940.0     1079864.0           0.0    16576457.0   \n",
       "3        0.000    3044703.0     3621979.0     1186839.0    48187375.0   \n",
       "4        0.000     214728.0      361770.0      511535.0    28141427.0   \n",
       "\n",
       "        ...        form_field36  form_field37  form_field38  form_field39  \\\n",
       "0       ...                12.0          12.0           4.0           0.0   \n",
       "1       ...                16.0          24.0           8.0           0.0   \n",
       "2       ...                12.0           0.0           6.0           0.0   \n",
       "3       ...                 4.0           8.0           4.0           1.0   \n",
       "4       ...                24.0           2.0          24.0           0.0   \n",
       "\n",
       "   form_field42  form_field43  form_field44  form_field47  form_field49  \\\n",
       "0      0.392854          2.02      0.711632        charge      1.129518   \n",
       "1      0.314281          8.08      0.183584        charge      1.620483   \n",
       "2      0.162965         18.18      0.791136        charge      1.513370   \n",
       "3      0.488884          2.02      0.685168        charge      0.664452   \n",
       "4      0.275000         12.12      0.438168        charge      1.427891   \n",
       "\n",
       "   default_status  \n",
       "0              no  \n",
       "1              no  \n",
       "2             yes  \n",
       "3              no  \n",
       "4              no  \n",
       "\n",
       "[5 rows x 28 columns]"
      ]
     },
     "execution_count": 33,
     "metadata": {},
     "output_type": "execute_result"
    }
   ],
   "source": [
    "data.head()"
   ]
  },
  {
   "cell_type": "markdown",
   "metadata": {},
   "source": [
    "# Filling NaN values \n",
    "# form_field1-5"
   ]
  },
  {
   "cell_type": "code",
   "execution_count": 34,
   "metadata": {},
   "outputs": [
    {
     "data": {
      "text/plain": [
       "3484.0"
      ]
     },
     "execution_count": 34,
     "metadata": {},
     "output_type": "execute_result"
    }
   ],
   "source": [
    "data['form_field1'].median()"
   ]
  },
  {
   "cell_type": "code",
   "execution_count": 35,
   "metadata": {},
   "outputs": [],
   "source": [
    "data['form_field1'] = data['form_field1'].fillna(data['form_field1'].median())\n",
    "\n",
    "test['form_field1'] = test['form_field1'].fillna(test['form_field1'].median())"
   ]
  },
  {
   "cell_type": "code",
   "execution_count": 36,
   "metadata": {},
   "outputs": [
    {
     "data": {
      "text/plain": [
       "<matplotlib.axes._subplots.AxesSubplot at 0xb7122b0>"
      ]
     },
     "execution_count": 36,
     "metadata": {},
     "output_type": "execute_result"
    },
    {
     "data": {
      "image/png": "[encoded data removed]",
      "text/plain": [
       "<Figure size 432x288 with 1 Axes>"
      ]
     },
     "metadata": {
      "needs_background": "light"
     },
     "output_type": "display_data"
    }
   ],
   "source": [
    "sns.distplot(data['form_field1'])"
   ]
  },
  {
   "cell_type": "code",
   "execution_count": 37,
   "metadata": {},
   "outputs": [
    {
     "data": {
      "text/plain": [
       "0.5507368490681812"
      ]
     },
     "execution_count": 37,
     "metadata": {},
     "output_type": "execute_result"
    }
   ],
   "source": [
    "data['form_field2'].mean()"
   ]
  },
  {
   "cell_type": "code",
   "execution_count": 38,
   "metadata": {},
   "outputs": [],
   "source": [
    "data['form_field2'] = data['form_field2'].fillna(data['form_field2'].mean())\n",
    "\n",
    "test['form_field2'] = test['form_field2'].fillna(test['form_field2'].mean())"
   ]
  },
  {
   "cell_type": "code",
   "execution_count": 39,
   "metadata": {},
   "outputs": [
    {
     "data": {
      "text/plain": [
       "<matplotlib.axes._subplots.AxesSubplot at 0xba83128>"
      ]
     },
     "execution_count": 39,
     "metadata": {},
     "output_type": "execute_result"
    },
    {
     "data": {
      "image/png": "[encoded data removed]",
      "text/plain": [
       "<Figure size 432x288 with 1 Axes>"
      ]
     },
     "metadata": {
      "needs_background": "light"
     },
     "output_type": "display_data"
    }
   ],
   "source": [
    "sns.distplot(data['form_field2'])"
   ]
  },
  {
   "cell_type": "code",
   "execution_count": 40,
   "metadata": {},
   "outputs": [
    {
     "data": {
      "text/plain": [
       "1.052225040884184"
      ]
     },
     "execution_count": 40,
     "metadata": {},
     "output_type": "execute_result"
    }
   ],
   "source": [
    "data['form_field3'].mean()"
   ]
  },
  {
   "cell_type": "code",
   "execution_count": 41,
   "metadata": {},
   "outputs": [],
   "source": [
    "data['form_field3'] = data['form_field3'].fillna(data['form_field3'].mean())\n",
    "\n",
    "test['form_field3'] = test['form_field3'].fillna(test['form_field3'].mean())"
   ]
  },
  {
   "cell_type": "code",
   "execution_count": 42,
   "metadata": {},
   "outputs": [
    {
     "data": {
      "text/plain": [
       "0.8519789307215396"
      ]
     },
     "execution_count": 42,
     "metadata": {},
     "output_type": "execute_result"
    }
   ],
   "source": [
    "data['form_field4'].mean()"
   ]
  },
  {
   "cell_type": "code",
   "execution_count": 43,
   "metadata": {},
   "outputs": [],
   "source": [
    "data['form_field4'] = data['form_field4'].fillna(data['form_field4'].mean())\n",
    "\n",
    "test['form_field4'] = test['form_field4'].fillna(test['form_field4'].mean())"
   ]
  },
  {
   "cell_type": "code",
   "execution_count": 44,
   "metadata": {},
   "outputs": [],
   "source": [
    "data['form_field5'] = data['form_field5'].fillna(data['form_field5'].mean())\n",
    "\n",
    "test['form_field5'] = test['form_field5'].fillna(test['form_field5'].mean())"
   ]
  },
  {
   "cell_type": "code",
   "execution_count": 45,
   "metadata": {},
   "outputs": [
    {
     "name": "stdout",
     "output_type": "stream",
     "text": [
      "<class 'pandas.core.frame.DataFrame'>\n",
      "RangeIndex: 56000 entries, 0 to 55999\n",
      "Data columns (total 28 columns):\n",
      "Applicant_ID      56000 non-null object\n",
      "form_field1       56000 non-null float64\n",
      "form_field2       56000 non-null float64\n",
      "form_field3       56000 non-null float64\n",
      "form_field4       56000 non-null float64\n",
      "form_field5       56000 non-null float64\n",
      "form_field7       50837 non-null float64\n",
      "form_field10      55645 non-null float64\n",
      "form_field13      50111 non-null float64\n",
      "form_field14      56000 non-null float64\n",
      "form_field19      55996 non-null float64\n",
      "form_field20      55645 non-null float64\n",
      "form_field25      50550 non-null float64\n",
      "form_field28      55645 non-null float64\n",
      "form_field29      55645 non-null float64\n",
      "form_field32      50550 non-null float64\n",
      "form_field33      54744 non-null float64\n",
      "form_field34      55645 non-null float64\n",
      "form_field36      54005 non-null float64\n",
      "form_field37      50550 non-null float64\n",
      "form_field38      55645 non-null float64\n",
      "form_field39      51789 non-null float64\n",
      "form_field42      54677 non-null float64\n",
      "form_field43      55432 non-null float64\n",
      "form_field44      50617 non-null float64\n",
      "form_field47      56000 non-null object\n",
      "form_field49      55645 non-null float64\n",
      "default_status    56000 non-null object\n",
      "dtypes: float64(25), object(3)\n",
      "memory usage: 12.0+ MB\n"
     ]
    }
   ],
   "source": [
    "data.info()"
   ]
  },
  {
   "cell_type": "markdown",
   "metadata": {},
   "source": [
    "# form_field 7, 10, 13, 14"
   ]
  },
  {
   "cell_type": "code",
   "execution_count": 46,
   "metadata": {},
   "outputs": [
    {
     "data": {
      "text/plain": [
       "2704328.0"
      ]
     },
     "execution_count": 46,
     "metadata": {},
     "output_type": "execute_result"
    }
   ],
   "source": [
    "data['form_field7'].median()"
   ]
  },
  {
   "cell_type": "code",
   "execution_count": 47,
   "metadata": {},
   "outputs": [],
   "source": [
    "data['form_field7'] = data['form_field7'].fillna(data['form_field7'].median())\n",
    "\n",
    "test['form_field7'] = test['form_field7'].fillna(test['form_field7'].median())"
   ]
  },
  {
   "cell_type": "code",
   "execution_count": 48,
   "metadata": {},
   "outputs": [
    {
     "data": {
      "text/plain": [
       "3707559.0"
      ]
     },
     "execution_count": 48,
     "metadata": {},
     "output_type": "execute_result"
    }
   ],
   "source": [
    "data['form_field10'].median()"
   ]
  },
  {
   "cell_type": "code",
   "execution_count": 49,
   "metadata": {},
   "outputs": [],
   "source": [
    "data['form_field10'] = data['form_field10'].fillna(data['form_field10'].median())\n",
    "\n",
    "test['form_field10'] = test['form_field10'].fillna(test['form_field10'].median())"
   ]
  },
  {
   "cell_type": "code",
   "execution_count": 50,
   "metadata": {},
   "outputs": [],
   "source": [
    "data['form_field13'] = data['form_field13'].fillna(data['form_field13'].median())\n",
    "\n",
    "test['form_field13'] = test['form_field13'].fillna(test['form_field13'].median())"
   ]
  },
  {
   "cell_type": "code",
   "execution_count": 51,
   "metadata": {},
   "outputs": [],
   "source": [
    "data['form_field14'] = data['form_field14'].fillna(data['form_field14'].median())\n",
    "\n",
    "test['form_field14'] = test['form_field14'].fillna(test['form_field14'].median())"
   ]
  },
  {
   "cell_type": "code",
   "execution_count": 52,
   "metadata": {},
   "outputs": [
    {
     "name": "stdout",
     "output_type": "stream",
     "text": [
      "<class 'pandas.core.frame.DataFrame'>\n",
      "RangeIndex: 56000 entries, 0 to 55999\n",
      "Data columns (total 28 columns):\n",
      "Applicant_ID      56000 non-null object\n",
      "form_field1       56000 non-null float64\n",
      "form_field2       56000 non-null float64\n",
      "form_field3       56000 non-null float64\n",
      "form_field4       56000 non-null float64\n",
      "form_field5       56000 non-null float64\n",
      "form_field7       56000 non-null float64\n",
      "form_field10      56000 non-null float64\n",
      "form_field13      56000 non-null float64\n",
      "form_field14      56000 non-null float64\n",
      "form_field19      55996 non-null float64\n",
      "form_field20      55645 non-null float64\n",
      "form_field25      50550 non-null float64\n",
      "form_field28      55645 non-null float64\n",
      "form_field29      55645 non-null float64\n",
      "form_field32      50550 non-null float64\n",
      "form_field33      54744 non-null float64\n",
      "form_field34      55645 non-null float64\n",
      "form_field36      54005 non-null float64\n",
      "form_field37      50550 non-null float64\n",
      "form_field38      55645 non-null float64\n",
      "form_field39      51789 non-null float64\n",
      "form_field42      54677 non-null float64\n",
      "form_field43      55432 non-null float64\n",
      "form_field44      50617 non-null float64\n",
      "form_field47      56000 non-null object\n",
      "form_field49      55645 non-null float64\n",
      "default_status    56000 non-null object\n",
      "dtypes: float64(25), object(3)\n",
      "memory usage: 12.0+ MB\n"
     ]
    }
   ],
   "source": [
    "data.info()"
   ]
  },
  {
   "cell_type": "markdown",
   "metadata": {},
   "source": [
    "# form field 19"
   ]
  },
  {
   "cell_type": "code",
   "execution_count": 53,
   "metadata": {},
   "outputs": [
    {
     "data": {
      "text/plain": [
       "0.0"
      ]
     },
     "execution_count": 53,
     "metadata": {},
     "output_type": "execute_result"
    }
   ],
   "source": [
    "data['form_field19'].median()"
   ]
  },
  {
   "cell_type": "code",
   "execution_count": 54,
   "metadata": {},
   "outputs": [],
   "source": [
    "data['form_field19'] = data['form_field19'].fillna(data['form_field19'].median())\n",
    "\n",
    "test['form_field19'] = test['form_field19'].fillna(test['form_field19'].median())"
   ]
  },
  {
   "cell_type": "code",
   "execution_count": 55,
   "metadata": {},
   "outputs": [
    {
     "data": {
      "text/plain": [
       "<matplotlib.axes._subplots.AxesSubplot at 0x10a7c550>"
      ]
     },
     "execution_count": 55,
     "metadata": {},
     "output_type": "execute_result"
    },
    {
     "data": {
      "image/png": "[encoded data removed]",
      "text/plain": [
       "<Figure size 432x288 with 1 Axes>"
      ]
     },
     "metadata": {
      "needs_background": "light"
     },
     "output_type": "display_data"
    }
   ],
   "source": [
    "sns.countplot('form_field19', data=data)"
   ]
  },
  {
   "cell_type": "code",
   "execution_count": 56,
   "metadata": {},
   "outputs": [],
   "source": [
    "def transform_formfield19(data):\n",
    "    out=0\n",
    "    if data == 0:\n",
    "        out = 0\n",
    "    else:\n",
    "        out = 1\n",
    "    return out"
   ]
  },
  {
   "cell_type": "code",
   "execution_count": 57,
   "metadata": {},
   "outputs": [],
   "source": [
    "data['form_field19'] = data['form_field19'].apply(transform_formfield19).astype(int)\n",
    "\n",
    "test['form_field19'] = test['form_field19'].apply(transform_formfield19).astype(int)"
   ]
  },
  {
   "cell_type": "code",
   "execution_count": 58,
   "metadata": {},
   "outputs": [
    {
     "data": {
      "text/plain": [
       "<matplotlib.axes._subplots.AxesSubplot at 0x1003f940>"
      ]
     },
     "execution_count": 58,
     "metadata": {},
     "output_type": "execute_result"
    },
    {
     "data": {
      "image/png": "[encoded data removed]",
      "text/plain": [
       "<Figure size 432x288 with 1 Axes>"
      ]
     },
     "metadata": {
      "needs_background": "light"
     },
     "output_type": "display_data"
    }
   ],
   "source": [
    "sns.countplot('form_field19', data=data, hue='default_status')"
   ]
  },
  {
   "cell_type": "markdown",
   "metadata": {},
   "source": [
    "# formfield20"
   ]
  },
  {
   "cell_type": "code",
   "execution_count": 59,
   "metadata": {},
   "outputs": [
    {
     "data": {
      "text/plain": [
       "0.0"
      ]
     },
     "execution_count": 59,
     "metadata": {},
     "output_type": "execute_result"
    }
   ],
   "source": [
    "data['form_field20'].median()"
   ]
  },
  {
   "cell_type": "code",
   "execution_count": 60,
   "metadata": {},
   "outputs": [],
   "source": [
    "data['form_field20'] = data['form_field20'].fillna(data['form_field20'].median())\n",
    "\n",
    "test['form_field20'] = test['form_field20'].fillna(test['form_field20'].median())"
   ]
  },
  {
   "cell_type": "code",
   "execution_count": 61,
   "metadata": {},
   "outputs": [
    {
     "data": {
      "text/plain": [
       "<matplotlib.axes._subplots.AxesSubplot at 0xc11c550>"
      ]
     },
     "execution_count": 61,
     "metadata": {},
     "output_type": "execute_result"
    },
    {
     "data": {
      "image/png": "[encoded data removed]",
      "text/plain": [
       "<Figure size 432x288 with 1 Axes>"
      ]
     },
     "metadata": {
      "needs_background": "light"
     },
     "output_type": "display_data"
    }
   ],
   "source": [
    "sns.countplot('form_field20', data=data)"
   ]
  },
  {
   "cell_type": "code",
   "execution_count": 62,
   "metadata": {},
   "outputs": [],
   "source": [
    "def transform_formfield20(data):\n",
    "    out = 0\n",
    "    if data == 0:\n",
    "        out = 0\n",
    "    else:\n",
    "        out = 1\n",
    "    return out"
   ]
  },
  {
   "cell_type": "code",
   "execution_count": 63,
   "metadata": {},
   "outputs": [],
   "source": [
    "data['form_field20'] = data['form_field20'].apply(transform_formfield20).astype(int)\n",
    "\n",
    "test['form_field20'] = test['form_field20'].apply(transform_formfield20).astype(int)"
   ]
  },
  {
   "cell_type": "code",
   "execution_count": 64,
   "metadata": {},
   "outputs": [
    {
     "data": {
      "text/plain": [
       "<matplotlib.axes._subplots.AxesSubplot at 0xc04eba8>"
      ]
     },
     "execution_count": 64,
     "metadata": {},
     "output_type": "execute_result"
    },
    {
     "data": {
      "image/png": "[encoded data removed]",
      "text/plain": [
       "<Figure size 432x288 with 1 Axes>"
      ]
     },
     "metadata": {
      "needs_background": "light"
     },
     "output_type": "display_data"
    }
   ],
   "source": [
    "sns.countplot('form_field20', data=data, hue ='default_status')"
   ]
  },
  {
   "cell_type": "code",
   "execution_count": 65,
   "metadata": {},
   "outputs": [
    {
     "name": "stdout",
     "output_type": "stream",
     "text": [
      "<class 'pandas.core.frame.DataFrame'>\n",
      "RangeIndex: 56000 entries, 0 to 55999\n",
      "Data columns (total 28 columns):\n",
      "Applicant_ID      56000 non-null object\n",
      "form_field1       56000 non-null float64\n",
      "form_field2       56000 non-null float64\n",
      "form_field3       56000 non-null float64\n",
      "form_field4       56000 non-null float64\n",
      "form_field5       56000 non-null float64\n",
      "form_field7       56000 non-null float64\n",
      "form_field10      56000 non-null float64\n",
      "form_field13      56000 non-null float64\n",
      "form_field14      56000 non-null float64\n",
      "form_field19      56000 non-null int32\n",
      "form_field20      56000 non-null int32\n",
      "form_field25      50550 non-null float64\n",
      "form_field28      55645 non-null float64\n",
      "form_field29      55645 non-null float64\n",
      "form_field32      50550 non-null float64\n",
      "form_field33      54744 non-null float64\n",
      "form_field34      55645 non-null float64\n",
      "form_field36      54005 non-null float64\n",
      "form_field37      50550 non-null float64\n",
      "form_field38      55645 non-null float64\n",
      "form_field39      51789 non-null float64\n",
      "form_field42      54677 non-null float64\n",
      "form_field43      55432 non-null float64\n",
      "form_field44      50617 non-null float64\n",
      "form_field47      56000 non-null object\n",
      "form_field49      55645 non-null float64\n",
      "default_status    56000 non-null object\n",
      "dtypes: float64(23), int32(2), object(3)\n",
      "memory usage: 11.5+ MB\n"
     ]
    }
   ],
   "source": [
    "data.info()"
   ]
  },
  {
   "cell_type": "markdown",
   "metadata": {},
   "source": [
    "# formfield 25, 28, 29, 32, 33, 34"
   ]
  },
  {
   "cell_type": "code",
   "execution_count": 66,
   "metadata": {},
   "outputs": [
    {
     "data": {
      "text/plain": [
       "2203.5"
      ]
     },
     "execution_count": 66,
     "metadata": {},
     "output_type": "execute_result"
    }
   ],
   "source": [
    "data['form_field25'].median()"
   ]
  },
  {
   "cell_type": "code",
   "execution_count": 67,
   "metadata": {},
   "outputs": [],
   "source": [
    "data['form_field25'] = data['form_field25'].fillna(data['form_field25'].median())\n",
    "\n",
    "test['form_field25'] = test['form_field25'].fillna(test['form_field25'].median())"
   ]
  },
  {
   "cell_type": "code",
   "execution_count": 68,
   "metadata": {},
   "outputs": [
    {
     "data": {
      "text/plain": [
       "486.0"
      ]
     },
     "execution_count": 68,
     "metadata": {},
     "output_type": "execute_result"
    }
   ],
   "source": [
    "data['form_field28'].median()"
   ]
  },
  {
   "cell_type": "code",
   "execution_count": 69,
   "metadata": {},
   "outputs": [],
   "source": [
    "data['form_field28'] = data['form_field28'].fillna(data['form_field28'].median())\n",
    "\n",
    "test['form_field28'] = test['form_field28'].fillna(test['form_field28'].median())"
   ]
  },
  {
   "cell_type": "code",
   "execution_count": 70,
   "metadata": {},
   "outputs": [
    {
     "data": {
      "text/plain": [
       "15057.0"
      ]
     },
     "execution_count": 70,
     "metadata": {},
     "output_type": "execute_result"
    }
   ],
   "source": [
    "data['form_field29'].median()"
   ]
  },
  {
   "cell_type": "code",
   "execution_count": 71,
   "metadata": {},
   "outputs": [],
   "source": [
    "data['form_field29'] = data['form_field29'].fillna(data['form_field29'].median())\n",
    "\n",
    "test['form_field29'] = test['form_field29'].fillna(test['form_field29'].median())"
   ]
  },
  {
   "cell_type": "code",
   "execution_count": 72,
   "metadata": {},
   "outputs": [
    {
     "data": {
      "text/plain": [
       "598.0"
      ]
     },
     "execution_count": 72,
     "metadata": {},
     "output_type": "execute_result"
    }
   ],
   "source": [
    "data['form_field32'].median()"
   ]
  },
  {
   "cell_type": "code",
   "execution_count": 73,
   "metadata": {},
   "outputs": [],
   "source": [
    "data['form_field32'] = data['form_field32'].fillna(data['form_field32'].median())\n",
    "\n",
    "test['form_field32'] = test['form_field32'].fillna(test['form_field32'].median())"
   ]
  },
  {
   "cell_type": "code",
   "execution_count": 74,
   "metadata": {},
   "outputs": [
    {
     "data": {
      "text/plain": [
       "13.92658344293429"
      ]
     },
     "execution_count": 74,
     "metadata": {},
     "output_type": "execute_result"
    }
   ],
   "source": [
    "data['form_field33'].mean()"
   ]
  },
  {
   "cell_type": "code",
   "execution_count": 75,
   "metadata": {},
   "outputs": [],
   "source": [
    "data['form_field33'] = data['form_field33'].fillna(data['form_field33'].mean())\n",
    "\n",
    "test['form_field33'] = test['form_field33'].fillna(test['form_field33'].mean())"
   ]
  },
  {
   "cell_type": "code",
   "execution_count": 76,
   "metadata": {},
   "outputs": [
    {
     "data": {
      "text/plain": [
       "0.0"
      ]
     },
     "execution_count": 76,
     "metadata": {},
     "output_type": "execute_result"
    }
   ],
   "source": [
    "data['form_field34'].median()"
   ]
  },
  {
   "cell_type": "code",
   "execution_count": 77,
   "metadata": {},
   "outputs": [],
   "source": [
    "data['form_field34'] = data['form_field34'].fillna(data['form_field34'].median())\n",
    "\n",
    "test['form_field34'] = test['form_field34'].fillna(test['form_field34'].median())"
   ]
  },
  {
   "cell_type": "code",
   "execution_count": 78,
   "metadata": {},
   "outputs": [
    {
     "data": {
      "text/plain": [
       "<matplotlib.axes._subplots.AxesSubplot at 0xfd40b00>"
      ]
     },
     "execution_count": 78,
     "metadata": {},
     "output_type": "execute_result"
    },
    {
     "data": {
      "image/png": "[encoded data removed]",
      "text/plain": [
       "<Figure size 432x288 with 1 Axes>"
      ]
     },
     "metadata": {
      "needs_background": "light"
     },
     "output_type": "display_data"
    }
   ],
   "source": [
    "sns.countplot('form_field34', data = data)"
   ]
  },
  {
   "cell_type": "code",
   "execution_count": 79,
   "metadata": {},
   "outputs": [],
   "source": [
    "def transform_formfield34(data):\n",
    "    out = 0\n",
    "    if data == 0:\n",
    "        out = 0\n",
    "    else:\n",
    "        out = 1\n",
    "    return out"
   ]
  },
  {
   "cell_type": "code",
   "execution_count": 80,
   "metadata": {},
   "outputs": [],
   "source": [
    "data['form_field34'] = data['form_field34'].apply(transform_formfield34).astype(int)\n",
    "\n",
    "test['form_field34'] = test['form_field34'].apply(transform_formfield34).astype(int)"
   ]
  },
  {
   "cell_type": "code",
   "execution_count": 81,
   "metadata": {},
   "outputs": [
    {
     "data": {
      "text/plain": [
       "<matplotlib.axes._subplots.AxesSubplot at 0xfd400f0>"
      ]
     },
     "execution_count": 81,
     "metadata": {},
     "output_type": "execute_result"
    },
    {
     "data": {
      "image/png": "[encoded data removed]",
      "text/plain": [
       "<Figure size 432x288 with 1 Axes>"
      ]
     },
     "metadata": {
      "needs_background": "light"
     },
     "output_type": "display_data"
    }
   ],
   "source": [
    "sns.countplot('form_field34', data = data, hue = 'default_status')"
   ]
  },
  {
   "cell_type": "code",
   "execution_count": 82,
   "metadata": {},
   "outputs": [
    {
     "name": "stdout",
     "output_type": "stream",
     "text": [
      "<class 'pandas.core.frame.DataFrame'>\n",
      "RangeIndex: 56000 entries, 0 to 55999\n",
      "Data columns (total 28 columns):\n",
      "Applicant_ID      56000 non-null object\n",
      "form_field1       56000 non-null float64\n",
      "form_field2       56000 non-null float64\n",
      "form_field3       56000 non-null float64\n",
      "form_field4       56000 non-null float64\n",
      "form_field5       56000 non-null float64\n",
      "form_field7       56000 non-null float64\n",
      "form_field10      56000 non-null float64\n",
      "form_field13      56000 non-null float64\n",
      "form_field14      56000 non-null float64\n",
      "form_field19      56000 non-null int32\n",
      "form_field20      56000 non-null int32\n",
      "form_field25      56000 non-null float64\n",
      "form_field28      56000 non-null float64\n",
      "form_field29      56000 non-null float64\n",
      "form_field32      56000 non-null float64\n",
      "form_field33      56000 non-null float64\n",
      "form_field34      56000 non-null int32\n",
      "form_field36      54005 non-null float64\n",
      "form_field37      50550 non-null float64\n",
      "form_field38      55645 non-null float64\n",
      "form_field39      51789 non-null float64\n",
      "form_field42      54677 non-null float64\n",
      "form_field43      55432 non-null float64\n",
      "form_field44      50617 non-null float64\n",
      "form_field47      56000 non-null object\n",
      "form_field49      55645 non-null float64\n",
      "default_status    56000 non-null object\n",
      "dtypes: float64(22), int32(3), object(3)\n",
      "memory usage: 11.3+ MB\n"
     ]
    }
   ],
   "source": [
    "data.info()"
   ]
  },
  {
   "cell_type": "markdown",
   "metadata": {},
   "source": [
    "# formfield 36, 37, 38, 39, 42"
   ]
  },
  {
   "cell_type": "code",
   "execution_count": 83,
   "metadata": {},
   "outputs": [
    {
     "data": {
      "text/plain": [
       "10.0"
      ]
     },
     "execution_count": 83,
     "metadata": {},
     "output_type": "execute_result"
    }
   ],
   "source": [
    "data['form_field36'].median()"
   ]
  },
  {
   "cell_type": "code",
   "execution_count": 84,
   "metadata": {},
   "outputs": [],
   "source": [
    "data['form_field36'] = data['form_field36'].fillna(data['form_field36'].median())\n",
    "\n",
    "test['form_field36'] = test['form_field36'].fillna(test['form_field36'].median())"
   ]
  },
  {
   "cell_type": "code",
   "execution_count": 85,
   "metadata": {},
   "outputs": [],
   "source": [
    "data['form_field37'] = data['form_field37'].fillna(data['form_field37'].median())\n",
    "\n",
    "test['form_field37'] = test['form_field37'].fillna(test['form_field37'].median())"
   ]
  },
  {
   "cell_type": "code",
   "execution_count": 86,
   "metadata": {},
   "outputs": [],
   "source": [
    "data['form_field38'] = data['form_field38'].fillna(data['form_field38'].median())\n",
    "\n",
    "test['form_field38'] = test['form_field38'].fillna(test['form_field38'].median())"
   ]
  },
  {
   "cell_type": "code",
   "execution_count": 87,
   "metadata": {},
   "outputs": [
    {
     "data": {
      "text/plain": [
       "0.0"
      ]
     },
     "execution_count": 87,
     "metadata": {},
     "output_type": "execute_result"
    }
   ],
   "source": [
    "data['form_field39'].median()"
   ]
  },
  {
   "cell_type": "code",
   "execution_count": 88,
   "metadata": {},
   "outputs": [],
   "source": [
    "data['form_field39'] = data['form_field39'].fillna(data['form_field39'].median())\n",
    "\n",
    "test['form_field39'] = test['form_field39'].fillna(test['form_field39'].median())"
   ]
  },
  {
   "cell_type": "code",
   "execution_count": 89,
   "metadata": {},
   "outputs": [
    {
     "data": {
      "text/plain": [
       "<matplotlib.axes._subplots.AxesSubplot at 0x108d5400>"
      ]
     },
     "execution_count": 89,
     "metadata": {},
     "output_type": "execute_result"
    },
    {
     "data": {
      "image/png": "[encoded data removed]",
      "text/plain": [
       "<Figure size 432x288 with 1 Axes>"
      ]
     },
     "metadata": {
      "needs_background": "light"
     },
     "output_type": "display_data"
    }
   ],
   "source": [
    "sns.countplot('form_field39', data = data)"
   ]
  },
  {
   "cell_type": "code",
   "execution_count": 90,
   "metadata": {},
   "outputs": [],
   "source": [
    "def transform_formfield39(data):\n",
    "    out=0\n",
    "    if data == 0:\n",
    "        out = 0\n",
    "    else:\n",
    "        out = 1\n",
    "    return out"
   ]
  },
  {
   "cell_type": "code",
   "execution_count": 91,
   "metadata": {},
   "outputs": [],
   "source": [
    "data['form_field39'] = data['form_field39'].apply(transform_formfield39).astype(int)\n",
    "\n",
    "test['form_field39'] = test['form_field39'].apply(transform_formfield39).astype(int)"
   ]
  },
  {
   "cell_type": "code",
   "execution_count": 92,
   "metadata": {},
   "outputs": [
    {
     "data": {
      "text/plain": [
       "<matplotlib.axes._subplots.AxesSubplot at 0x10882d68>"
      ]
     },
     "execution_count": 92,
     "metadata": {},
     "output_type": "execute_result"
    },
    {
     "data": {
      "image/png": "[encoded data removed]",
      "text/plain": [
       "<Figure size 432x288 with 1 Axes>"
      ]
     },
     "metadata": {
      "needs_background": "light"
     },
     "output_type": "display_data"
    }
   ],
   "source": [
    "sns.countplot('form_field39', data = data, hue = 'default_status')"
   ]
  },
  {
   "cell_type": "code",
   "execution_count": 93,
   "metadata": {},
   "outputs": [
    {
     "data": {
      "text/plain": [
       "0.3682154648023831"
      ]
     },
     "execution_count": 93,
     "metadata": {},
     "output_type": "execute_result"
    }
   ],
   "source": [
    "data['form_field42'].mean()"
   ]
  },
  {
   "cell_type": "code",
   "execution_count": 94,
   "metadata": {},
   "outputs": [],
   "source": [
    "data['form_field42'] = data['form_field42'].fillna(data['form_field42'].mean())\n",
    "\n",
    "test['form_field42'] = test['form_field42'].fillna(test['form_field42'].mean())"
   ]
  },
  {
   "cell_type": "markdown",
   "metadata": {},
   "source": [
    "# form field 43, 44"
   ]
  },
  {
   "cell_type": "code",
   "execution_count": 95,
   "metadata": {},
   "outputs": [
    {
     "data": {
      "text/plain": [
       "5.05"
      ]
     },
     "execution_count": 95,
     "metadata": {},
     "output_type": "execute_result"
    }
   ],
   "source": [
    "data['form_field43'].median()"
   ]
  },
  {
   "cell_type": "code",
   "execution_count": 96,
   "metadata": {},
   "outputs": [],
   "source": [
    "data['form_field43'] = data['form_field43'].fillna(data['form_field43'].median())\n",
    "\n",
    "test['form_field43'] = test['form_field43'].fillna(test['form_field43'].median())"
   ]
  },
  {
   "cell_type": "code",
   "execution_count": 97,
   "metadata": {},
   "outputs": [
    {
     "data": {
      "text/plain": [
       "0.5633767960961119"
      ]
     },
     "execution_count": 97,
     "metadata": {},
     "output_type": "execute_result"
    }
   ],
   "source": [
    "data['form_field44'].mean()"
   ]
  },
  {
   "cell_type": "code",
   "execution_count": 98,
   "metadata": {},
   "outputs": [],
   "source": [
    "data['form_field44'] = data['form_field44'].fillna(data['form_field44'].mean())\n",
    "\n",
    "test['form_field44'] = test['form_field44'].fillna(test['form_field44'].mean())"
   ]
  },
  {
   "cell_type": "code",
   "execution_count": 99,
   "metadata": {},
   "outputs": [
    {
     "name": "stdout",
     "output_type": "stream",
     "text": [
      "<class 'pandas.core.frame.DataFrame'>\n",
      "RangeIndex: 56000 entries, 0 to 55999\n",
      "Data columns (total 28 columns):\n",
      "Applicant_ID      56000 non-null object\n",
      "form_field1       56000 non-null float64\n",
      "form_field2       56000 non-null float64\n",
      "form_field3       56000 non-null float64\n",
      "form_field4       56000 non-null float64\n",
      "form_field5       56000 non-null float64\n",
      "form_field7       56000 non-null float64\n",
      "form_field10      56000 non-null float64\n",
      "form_field13      56000 non-null float64\n",
      "form_field14      56000 non-null float64\n",
      "form_field19      56000 non-null int32\n",
      "form_field20      56000 non-null int32\n",
      "form_field25      56000 non-null float64\n",
      "form_field28      56000 non-null float64\n",
      "form_field29      56000 non-null float64\n",
      "form_field32      56000 non-null float64\n",
      "form_field33      56000 non-null float64\n",
      "form_field34      56000 non-null int32\n",
      "form_field36      56000 non-null float64\n",
      "form_field37      56000 non-null float64\n",
      "form_field38      56000 non-null float64\n",
      "form_field39      56000 non-null int32\n",
      "form_field42      56000 non-null float64\n",
      "form_field43      56000 non-null float64\n",
      "form_field44      56000 non-null float64\n",
      "form_field47      56000 non-null object\n",
      "form_field49      55645 non-null float64\n",
      "default_status    56000 non-null object\n",
      "dtypes: float64(21), int32(4), object(3)\n",
      "memory usage: 11.1+ MB\n"
     ]
    }
   ],
   "source": [
    "data.info()"
   ]
  },
  {
   "cell_type": "markdown",
   "metadata": {},
   "source": [
    "# form field 47"
   ]
  },
  {
   "cell_type": "code",
   "execution_count": 100,
   "metadata": {},
   "outputs": [
    {
     "data": {
      "text/plain": [
       "<matplotlib.axes._subplots.AxesSubplot at 0x10ef7160>"
      ]
     },
     "execution_count": 100,
     "metadata": {},
     "output_type": "execute_result"
    },
    {
     "data": {
      "image/png": "[encoded data removed]",
      "text/plain": [
       "<Figure size 432x288 with 1 Axes>"
      ]
     },
     "metadata": {
      "needs_background": "light"
     },
     "output_type": "display_data"
    }
   ],
   "source": [
    "sns.countplot('form_field47', data = data, hue='default_status')"
   ]
  },
  {
   "cell_type": "code",
   "execution_count": 101,
   "metadata": {},
   "outputs": [
    {
     "name": "stdout",
     "output_type": "stream",
     "text": [
      "<class 'pandas.core.frame.DataFrame'>\n",
      "RangeIndex: 56000 entries, 0 to 55999\n",
      "Data columns (total 29 columns):\n",
      "Applicant_ID            56000 non-null object\n",
      "form_field1             56000 non-null float64\n",
      "form_field2             56000 non-null float64\n",
      "form_field3             56000 non-null float64\n",
      "form_field4             56000 non-null float64\n",
      "form_field5             56000 non-null float64\n",
      "form_field7             56000 non-null float64\n",
      "form_field10            56000 non-null float64\n",
      "form_field13            56000 non-null float64\n",
      "form_field14            56000 non-null float64\n",
      "form_field19            56000 non-null int32\n",
      "form_field20            56000 non-null int32\n",
      "form_field25            56000 non-null float64\n",
      "form_field28            56000 non-null float64\n",
      "form_field29            56000 non-null float64\n",
      "form_field32            56000 non-null float64\n",
      "form_field33            56000 non-null float64\n",
      "form_field34            56000 non-null int32\n",
      "form_field36            56000 non-null float64\n",
      "form_field37            56000 non-null float64\n",
      "form_field38            56000 non-null float64\n",
      "form_field39            56000 non-null int32\n",
      "form_field42            56000 non-null float64\n",
      "form_field43            56000 non-null float64\n",
      "form_field44            56000 non-null float64\n",
      "form_field49            55645 non-null float64\n",
      "default_status          56000 non-null object\n",
      "form_field47_charge     56000 non-null uint8\n",
      "form_field47_lending    56000 non-null uint8\n",
      "dtypes: float64(21), int32(4), object(2), uint8(2)\n",
      "memory usage: 10.8+ MB\n"
     ]
    }
   ],
   "source": [
    "#For this case, we will be using the pandas method for one-hot encoding (we do not want priority) as shown in the code below.\n",
    "data = pd.get_dummies(data, columns = ['form_field47'])\n",
    "test = pd.get_dummies(test, columns = ['form_field47'])\n",
    "\n",
    "data.info()"
   ]
  },
  {
   "cell_type": "markdown",
   "metadata": {},
   "source": [
    "# form_field 49"
   ]
  },
  {
   "cell_type": "code",
   "execution_count": 102,
   "metadata": {},
   "outputs": [],
   "source": [
    "#drop form field 49\n",
    "data = data.drop(['form_field49'], axis =1)\n",
    "test = test.drop(['form_field49'], axis =1)"
   ]
  },
  {
   "cell_type": "markdown",
   "metadata": {},
   "source": [
    "#  drop Applicant_ID"
   ]
  },
  {
   "cell_type": "code",
   "execution_count": 103,
   "metadata": {},
   "outputs": [],
   "source": [
    "data_id = data['Applicant_ID']\n",
    "data = data.drop('Applicant_ID', axis = 1)\n",
    "\n",
    "test_id = test['Applicant_ID']\n",
    "test = test.drop('Applicant_ID', axis = 1)"
   ]
  },
  {
   "cell_type": "code",
   "execution_count": 104,
   "metadata": {},
   "outputs": [
    {
     "name": "stdout",
     "output_type": "stream",
     "text": [
      "<class 'pandas.core.frame.DataFrame'>\n",
      "RangeIndex: 56000 entries, 0 to 55999\n",
      "Data columns (total 27 columns):\n",
      "form_field1             56000 non-null float64\n",
      "form_field2             56000 non-null float64\n",
      "form_field3             56000 non-null float64\n",
      "form_field4             56000 non-null float64\n",
      "form_field5             56000 non-null float64\n",
      "form_field7             56000 non-null float64\n",
      "form_field10            56000 non-null float64\n",
      "form_field13            56000 non-null float64\n",
      "form_field14            56000 non-null float64\n",
      "form_field19            56000 non-null int32\n",
      "form_field20            56000 non-null int32\n",
      "form_field25            56000 non-null float64\n",
      "form_field28            56000 non-null float64\n",
      "form_field29            56000 non-null float64\n",
      "form_field32            56000 non-null float64\n",
      "form_field33            56000 non-null float64\n",
      "form_field34            56000 non-null int32\n",
      "form_field36            56000 non-null float64\n",
      "form_field37            56000 non-null float64\n",
      "form_field38            56000 non-null float64\n",
      "form_field39            56000 non-null int32\n",
      "form_field42            56000 non-null float64\n",
      "form_field43            56000 non-null float64\n",
      "form_field44            56000 non-null float64\n",
      "default_status          56000 non-null object\n",
      "form_field47_charge     56000 non-null uint8\n",
      "form_field47_lending    56000 non-null uint8\n",
      "dtypes: float64(20), int32(4), object(1), uint8(2)\n",
      "memory usage: 9.9+ MB\n"
     ]
    }
   ],
   "source": [
    "data.info()"
   ]
  },
  {
   "cell_type": "markdown",
   "metadata": {},
   "source": [
    "# change default status from object to int"
   ]
  },
  {
   "cell_type": "code",
   "execution_count": 105,
   "metadata": {},
   "outputs": [],
   "source": [
    "def func(data):\n",
    "    d =[]\n",
    "    for m in data:\n",
    "        if m =='yes':\n",
    "            d.append(1)\n",
    "        else:\n",
    "            d.append(0)\n",
    "    return d\n",
    "\n",
    "data['default_status'] = func(data['default_status'])"
   ]
  },
  {
   "cell_type": "code",
   "execution_count": 106,
   "metadata": {},
   "outputs": [
    {
     "name": "stdout",
     "output_type": "stream",
     "text": [
      "<class 'pandas.core.frame.DataFrame'>\n",
      "RangeIndex: 56000 entries, 0 to 55999\n",
      "Data columns (total 27 columns):\n",
      "form_field1             56000 non-null float64\n",
      "form_field2             56000 non-null float64\n",
      "form_field3             56000 non-null float64\n",
      "form_field4             56000 non-null float64\n",
      "form_field5             56000 non-null float64\n",
      "form_field7             56000 non-null float64\n",
      "form_field10            56000 non-null float64\n",
      "form_field13            56000 non-null float64\n",
      "form_field14            56000 non-null float64\n",
      "form_field19            56000 non-null int32\n",
      "form_field20            56000 non-null int32\n",
      "form_field25            56000 non-null float64\n",
      "form_field28            56000 non-null float64\n",
      "form_field29            56000 non-null float64\n",
      "form_field32            56000 non-null float64\n",
      "form_field33            56000 non-null float64\n",
      "form_field34            56000 non-null int32\n",
      "form_field36            56000 non-null float64\n",
      "form_field37            56000 non-null float64\n",
      "form_field38            56000 non-null float64\n",
      "form_field39            56000 non-null int32\n",
      "form_field42            56000 non-null float64\n",
      "form_field43            56000 non-null float64\n",
      "form_field44            56000 non-null float64\n",
      "default_status          56000 non-null int64\n",
      "form_field47_charge     56000 non-null uint8\n",
      "form_field47_lending    56000 non-null uint8\n",
      "dtypes: float64(20), int32(4), int64(1), uint8(2)\n",
      "memory usage: 9.9 MB\n"
     ]
    }
   ],
   "source": [
    "data.info()"
   ]
  },
  {
   "cell_type": "code",
   "execution_count": 107,
   "metadata": {},
   "outputs": [
    {
     "data": {
      "text/html": [
       "<div>\n",
       "<style scoped>\n",
       "    .dataframe tbody tr th:only-of-type {\n",
       "        vertical-align: middle;\n",
       "    }\n",
       "\n",
       "    .dataframe tbody tr th {\n",
       "        vertical-align: top;\n",
       "    }\n",
       "\n",
       "    .dataframe thead th {\n",
       "        text-align: right;\n",
       "    }\n",
       "</style>\n",
       "<table border=\"1\" class=\"dataframe\">\n",
       "  <thead>\n",
       "    <tr style=\"text-align: right;\">\n",
       "      <th></th>\n",
       "      <th>form_field1</th>\n",
       "      <th>form_field2</th>\n",
       "      <th>form_field3</th>\n",
       "      <th>form_field4</th>\n",
       "      <th>form_field5</th>\n",
       "      <th>form_field7</th>\n",
       "      <th>form_field10</th>\n",
       "      <th>form_field13</th>\n",
       "      <th>form_field14</th>\n",
       "      <th>form_field19</th>\n",
       "      <th>...</th>\n",
       "      <th>form_field36</th>\n",
       "      <th>form_field37</th>\n",
       "      <th>form_field38</th>\n",
       "      <th>form_field39</th>\n",
       "      <th>form_field42</th>\n",
       "      <th>form_field43</th>\n",
       "      <th>form_field44</th>\n",
       "      <th>default_status</th>\n",
       "      <th>form_field47_charge</th>\n",
       "      <th>form_field47_lending</th>\n",
       "    </tr>\n",
       "  </thead>\n",
       "  <tbody>\n",
       "    <tr>\n",
       "      <th>0</th>\n",
       "      <td>3436.0</td>\n",
       "      <td>0.28505</td>\n",
       "      <td>1.6560</td>\n",
       "      <td>0.0</td>\n",
       "      <td>0.000</td>\n",
       "      <td>10689720.0</td>\n",
       "      <td>11333126.0</td>\n",
       "      <td>7875694.0</td>\n",
       "      <td>96375139.0</td>\n",
       "      <td>1</td>\n",
       "      <td>...</td>\n",
       "      <td>12.0</td>\n",
       "      <td>12.0</td>\n",
       "      <td>4.0</td>\n",
       "      <td>0</td>\n",
       "      <td>0.392854</td>\n",
       "      <td>2.02</td>\n",
       "      <td>0.711632</td>\n",
       "      <td>0</td>\n",
       "      <td>1</td>\n",
       "      <td>0</td>\n",
       "    </tr>\n",
       "    <tr>\n",
       "      <th>1</th>\n",
       "      <td>3456.0</td>\n",
       "      <td>0.67400</td>\n",
       "      <td>0.2342</td>\n",
       "      <td>0.0</td>\n",
       "      <td>0.000</td>\n",
       "      <td>898979.0</td>\n",
       "      <td>2533168.0</td>\n",
       "      <td>2141445.0</td>\n",
       "      <td>28141427.0</td>\n",
       "      <td>1</td>\n",
       "      <td>...</td>\n",
       "      <td>16.0</td>\n",
       "      <td>24.0</td>\n",
       "      <td>8.0</td>\n",
       "      <td>0</td>\n",
       "      <td>0.314281</td>\n",
       "      <td>8.08</td>\n",
       "      <td>0.183584</td>\n",
       "      <td>0</td>\n",
       "      <td>1</td>\n",
       "      <td>0</td>\n",
       "    </tr>\n",
       "    <tr>\n",
       "      <th>2</th>\n",
       "      <td>3276.0</td>\n",
       "      <td>0.53845</td>\n",
       "      <td>3.1510</td>\n",
       "      <td>0.0</td>\n",
       "      <td>6.282</td>\n",
       "      <td>956940.0</td>\n",
       "      <td>1079864.0</td>\n",
       "      <td>0.0</td>\n",
       "      <td>16576457.0</td>\n",
       "      <td>0</td>\n",
       "      <td>...</td>\n",
       "      <td>12.0</td>\n",
       "      <td>0.0</td>\n",
       "      <td>6.0</td>\n",
       "      <td>0</td>\n",
       "      <td>0.162965</td>\n",
       "      <td>18.18</td>\n",
       "      <td>0.791136</td>\n",
       "      <td>1</td>\n",
       "      <td>1</td>\n",
       "      <td>0</td>\n",
       "    </tr>\n",
       "    <tr>\n",
       "      <th>3</th>\n",
       "      <td>3372.0</td>\n",
       "      <td>0.17005</td>\n",
       "      <td>0.5050</td>\n",
       "      <td>0.0</td>\n",
       "      <td>0.000</td>\n",
       "      <td>3044703.0</td>\n",
       "      <td>3621979.0</td>\n",
       "      <td>1186839.0</td>\n",
       "      <td>48187375.0</td>\n",
       "      <td>1</td>\n",
       "      <td>...</td>\n",
       "      <td>4.0</td>\n",
       "      <td>8.0</td>\n",
       "      <td>4.0</td>\n",
       "      <td>1</td>\n",
       "      <td>0.488884</td>\n",
       "      <td>2.02</td>\n",
       "      <td>0.685168</td>\n",
       "      <td>0</td>\n",
       "      <td>1</td>\n",
       "      <td>0</td>\n",
       "    </tr>\n",
       "    <tr>\n",
       "      <th>4</th>\n",
       "      <td>3370.0</td>\n",
       "      <td>0.77270</td>\n",
       "      <td>1.1010</td>\n",
       "      <td>0.0</td>\n",
       "      <td>0.000</td>\n",
       "      <td>214728.0</td>\n",
       "      <td>361770.0</td>\n",
       "      <td>511535.0</td>\n",
       "      <td>28141427.0</td>\n",
       "      <td>1</td>\n",
       "      <td>...</td>\n",
       "      <td>24.0</td>\n",
       "      <td>2.0</td>\n",
       "      <td>24.0</td>\n",
       "      <td>0</td>\n",
       "      <td>0.275000</td>\n",
       "      <td>12.12</td>\n",
       "      <td>0.438168</td>\n",
       "      <td>0</td>\n",
       "      <td>1</td>\n",
       "      <td>0</td>\n",
       "    </tr>\n",
       "  </tbody>\n",
       "</table>\n",
       "<p>5 rows × 27 columns</p>\n",
       "</div>"
      ],
      "text/plain": [
       "   form_field1  form_field2  form_field3  form_field4  form_field5  \\\n",
       "0       3436.0      0.28505       1.6560          0.0        0.000   \n",
       "1       3456.0      0.67400       0.2342          0.0        0.000   \n",
       "2       3276.0      0.53845       3.1510          0.0        6.282   \n",
       "3       3372.0      0.17005       0.5050          0.0        0.000   \n",
       "4       3370.0      0.77270       1.1010          0.0        0.000   \n",
       "\n",
       "   form_field7  form_field10  form_field13  form_field14  form_field19  \\\n",
       "0   10689720.0    11333126.0     7875694.0    96375139.0             1   \n",
       "1     898979.0     2533168.0     2141445.0    28141427.0             1   \n",
       "2     956940.0     1079864.0           0.0    16576457.0             0   \n",
       "3    3044703.0     3621979.0     1186839.0    48187375.0             1   \n",
       "4     214728.0      361770.0      511535.0    28141427.0             1   \n",
       "\n",
       "           ...           form_field36  form_field37  form_field38  \\\n",
       "0          ...                   12.0          12.0           4.0   \n",
       "1          ...                   16.0          24.0           8.0   \n",
       "2          ...                   12.0           0.0           6.0   \n",
       "3          ...                    4.0           8.0           4.0   \n",
       "4          ...                   24.0           2.0          24.0   \n",
       "\n",
       "   form_field39  form_field42  form_field43  form_field44  default_status  \\\n",
       "0             0      0.392854          2.02      0.711632               0   \n",
       "1             0      0.314281          8.08      0.183584               0   \n",
       "2             0      0.162965         18.18      0.791136               1   \n",
       "3             1      0.488884          2.02      0.685168               0   \n",
       "4             0      0.275000         12.12      0.438168               0   \n",
       "\n",
       "   form_field47_charge  form_field47_lending  \n",
       "0                    1                     0  \n",
       "1                    1                     0  \n",
       "2                    1                     0  \n",
       "3                    1                     0  \n",
       "4                    1                     0  \n",
       "\n",
       "[5 rows x 27 columns]"
      ]
     },
     "execution_count": 107,
     "metadata": {},
     "output_type": "execute_result"
    }
   ],
   "source": [
    "data.head()"
   ]
  },
  {
   "cell_type": "code",
   "execution_count": 108,
   "metadata": {},
   "outputs": [
    {
     "data": {
      "text/plain": [
       "((56000, 27), (24000, 26))"
      ]
     },
     "execution_count": 108,
     "metadata": {},
     "output_type": "execute_result"
    }
   ],
   "source": [
    "data.shape, test.shape"
   ]
  },
  {
   "cell_type": "markdown",
   "metadata": {},
   "source": [
    "# MODELLING"
   ]
  },
  {
   "cell_type": "code",
   "execution_count": 109,
   "metadata": {},
   "outputs": [],
   "source": [
    "#Now that I have been able to process all dirt in my features i.e cleaning my data\n",
    "#I can go ahead to separate the target from the actual data using the code below.\n",
    "\n",
    "y = data['default_status']\n",
    "x = data.drop(['default_status'], axis =1 )"
   ]
  },
  {
   "cell_type": "code",
   "execution_count": 110,
   "metadata": {},
   "outputs": [],
   "source": [
    "import sklearn\n",
    "from sklearn.model_selection import train_test_split\n",
    "from sklearn.linear_model import LogisticRegression\n",
    "from xgboost import XGBClassifier\n",
    "from sklearn.ensemble import RandomForestClassifier\n",
    "from sklearn.ensemble import GradientBoostingClassifier\n",
    "from sklearn.metrics import accuracy_score, f1_score, classification_report"
   ]
  },
  {
   "cell_type": "code",
   "execution_count": 111,
   "metadata": {},
   "outputs": [],
   "source": [
    "x_train, x_test, y_train, y_test = train_test_split(x,\n",
    "                                                    y, \n",
    "                                                    test_size = 0.2,\n",
    "                                                    random_state = 42)"
   ]
  },
  {
   "cell_type": "markdown",
   "metadata": {},
   "source": [
    "# Random forest"
   ]
  },
  {
   "cell_type": "code",
   "execution_count": 112,
   "metadata": {},
   "outputs": [],
   "source": [
    "# rand = RandomForestClassifier(random_state= 42)\n",
    "# rand.fit(x_train, y_train) # model learning\n",
    "\n",
    "# # evaluating the train data using accuracy score \n",
    "# print('Training score is:', rand.score(x_train, y_train))\n",
    "\n",
    "# # make your predictions on the test data\n",
    "# pred= rand.predict(x_test)\n",
    "\n",
    "# # evaluate the test data using accuracy score\n",
    "# print('Testing score is:', accuracy_score(y_test, pred))"
   ]
  },
  {
   "cell_type": "markdown",
   "metadata": {},
   "source": [
    "# LOGISTIC REGRESSION"
   ]
  },
  {
   "cell_type": "code",
   "execution_count": 120,
   "metadata": {},
   "outputs": [],
   "source": [
    "# Lr = LogisticRegression() # algorithm instantiation\n",
    "# Lr.fit(x_train, y_train) # model learning\n",
    "\n",
    "# print('Training score is: ', Lr.score(x_train, y_train))\n",
    "# pred = Lr.predict_proba(x_test)\n",
    "# print('Testing score is: ', accuracy_score(y_test, pred))"
   ]
  },
  {
   "cell_type": "markdown",
   "metadata": {},
   "source": [
    "# GRADIENT BOOSTING"
   ]
  },
  {
   "cell_type": "code",
   "execution_count": 115,
   "metadata": {},
   "outputs": [],
   "source": [
    "# model_grb = GradientBoostingClassifier()\n",
    "# model_grb.fit(x_train,y_train)# model learning\n",
    "\n",
    "# print('Training score is :', model_grb.score(x_train, y_train))\n",
    "# pred = model_grb.predict(x_test)\n",
    "# print('Testing score is:', accuracy_score(y_test,pred))"
   ]
  },
  {
   "cell_type": "markdown",
   "metadata": {},
   "source": [
    "# XGB"
   ]
  },
  {
   "cell_type": "code",
   "execution_count": 116,
   "metadata": {},
   "outputs": [
    {
     "name": "stdout",
     "output_type": "stream",
     "text": [
      "('train score: ', 0.8112946428571428)\n"
     ]
    },
    {
     "ename": "ValueError",
     "evalue": "Classification metrics can't handle a mix of binary and continuous-multioutput targets",
     "output_type": "error",
     "traceback": [
      "\u001b[1;31m\u001b[0m",
      "\u001b[1;31mValueError\u001b[0mTraceback (most recent call last)",
      "\u001b[1;32m<ipython-input-116-5a913ab50637>\u001b[0m in \u001b[0;36m<module>\u001b[1;34m()\u001b[0m\n\u001b[0;32m      4\u001b[0m \u001b[0my_pred\u001b[0m \u001b[1;33m=\u001b[0m \u001b[0mmodel_xgb\u001b[0m\u001b[1;33m.\u001b[0m\u001b[0mpredict_proba\u001b[0m\u001b[1;33m(\u001b[0m\u001b[0mx_test\u001b[0m\u001b[1;33m)\u001b[0m \u001b[1;31m#predict probability of the test data\u001b[0m\u001b[1;33m\u001b[0m\u001b[0m\n\u001b[0;32m      5\u001b[0m \u001b[1;32mprint\u001b[0m\u001b[1;33m(\u001b[0m\u001b[1;34m'train score: '\u001b[0m\u001b[1;33m,\u001b[0m \u001b[0mmodel_xgb\u001b[0m\u001b[1;33m.\u001b[0m\u001b[0mscore\u001b[0m\u001b[1;33m(\u001b[0m\u001b[0mx_train\u001b[0m\u001b[1;33m,\u001b[0m \u001b[0my_train\u001b[0m\u001b[1;33m)\u001b[0m\u001b[1;33m)\u001b[0m\u001b[1;33m\u001b[0m\u001b[0m\n\u001b[1;32m----> 6\u001b[1;33m \u001b[1;32mprint\u001b[0m\u001b[1;33m(\u001b[0m\u001b[1;34m'test score: '\u001b[0m\u001b[1;33m,\u001b[0m  \u001b[0maccuracy_score\u001b[0m\u001b[1;33m(\u001b[0m\u001b[0my_test\u001b[0m\u001b[1;33m,\u001b[0m \u001b[0my_pred\u001b[0m\u001b[1;33m)\u001b[0m\u001b[1;33m)\u001b[0m\u001b[1;33m\u001b[0m\u001b[0m\n\u001b[0m",
      "\u001b[1;32mC:\\Users\\Ife\\Anaconda2\\lib\\site-packages\\sklearn\\metrics\\classification.pyc\u001b[0m in \u001b[0;36maccuracy_score\u001b[1;34m(y_true, y_pred, normalize, sample_weight)\u001b[0m\n\u001b[0;32m    174\u001b[0m \u001b[1;33m\u001b[0m\u001b[0m\n\u001b[0;32m    175\u001b[0m     \u001b[1;31m# Compute accuracy for each possible representation\u001b[0m\u001b[1;33m\u001b[0m\u001b[1;33m\u001b[0m\u001b[0m\n\u001b[1;32m--> 176\u001b[1;33m     \u001b[0my_type\u001b[0m\u001b[1;33m,\u001b[0m \u001b[0my_true\u001b[0m\u001b[1;33m,\u001b[0m \u001b[0my_pred\u001b[0m \u001b[1;33m=\u001b[0m \u001b[0m_check_targets\u001b[0m\u001b[1;33m(\u001b[0m\u001b[0my_true\u001b[0m\u001b[1;33m,\u001b[0m \u001b[0my_pred\u001b[0m\u001b[1;33m)\u001b[0m\u001b[1;33m\u001b[0m\u001b[0m\n\u001b[0m\u001b[0;32m    177\u001b[0m     \u001b[0mcheck_consistent_length\u001b[0m\u001b[1;33m(\u001b[0m\u001b[0my_true\u001b[0m\u001b[1;33m,\u001b[0m \u001b[0my_pred\u001b[0m\u001b[1;33m,\u001b[0m \u001b[0msample_weight\u001b[0m\u001b[1;33m)\u001b[0m\u001b[1;33m\u001b[0m\u001b[0m\n\u001b[0;32m    178\u001b[0m     \u001b[1;32mif\u001b[0m \u001b[0my_type\u001b[0m\u001b[1;33m.\u001b[0m\u001b[0mstartswith\u001b[0m\u001b[1;33m(\u001b[0m\u001b[1;34m'multilabel'\u001b[0m\u001b[1;33m)\u001b[0m\u001b[1;33m:\u001b[0m\u001b[1;33m\u001b[0m\u001b[0m\n",
      "\u001b[1;32mC:\\Users\\Ife\\Anaconda2\\lib\\site-packages\\sklearn\\metrics\\classification.pyc\u001b[0m in \u001b[0;36m_check_targets\u001b[1;34m(y_true, y_pred)\u001b[0m\n\u001b[0;32m     79\u001b[0m     \u001b[1;32mif\u001b[0m \u001b[0mlen\u001b[0m\u001b[1;33m(\u001b[0m\u001b[0my_type\u001b[0m\u001b[1;33m)\u001b[0m \u001b[1;33m>\u001b[0m \u001b[1;36m1\u001b[0m\u001b[1;33m:\u001b[0m\u001b[1;33m\u001b[0m\u001b[0m\n\u001b[0;32m     80\u001b[0m         raise ValueError(\"Classification metrics can't handle a mix of {0} \"\n\u001b[1;32m---> 81\u001b[1;33m                          \"and {1} targets\".format(type_true, type_pred))\n\u001b[0m\u001b[0;32m     82\u001b[0m \u001b[1;33m\u001b[0m\u001b[0m\n\u001b[0;32m     83\u001b[0m     \u001b[1;31m# We can't have more than one value on y_type => The set is no more needed\u001b[0m\u001b[1;33m\u001b[0m\u001b[1;33m\u001b[0m\u001b[0m\n",
      "\u001b[1;31mValueError\u001b[0m: Classification metrics can't handle a mix of binary and continuous-multioutput targets"
     ]
    }
   ],
   "source": [
    "model_xgb = XGBClassifier()\n",
    "\n",
    "model = model_xgb.fit(x_train, y_train)\n",
    "y_pred = model_xgb.predict_proba(x_test) #predict probability of the test data\n",
    "print('train score: ', model_xgb.score(x_train, y_train))\n",
    "print('test score: ',  accuracy_score(y_test, y_pred))"
   ]
  },
  {
   "cell_type": "markdown",
   "metadata": {},
   "source": [
    "# My prediction"
   ]
  },
  {
   "cell_type": "code",
   "execution_count": null,
   "metadata": {},
   "outputs": [],
   "source": [
    "test.shape, x_train.shape"
   ]
  },
  {
   "cell_type": "code",
   "execution_count": null,
   "metadata": {},
   "outputs": [],
   "source": [
    "# gradient_boost_prediction = model_grb.predict(test)\n",
    "# random_forest_prediction = rand.predict(test)\n",
    "# logistic_regression_prediction = Lr.predict(test)\n",
    "xgb_prediction = model_xgb.predict(test)"
   ]
  },
  {
   "cell_type": "markdown",
   "metadata": {},
   "source": [
    "# Random Forest Prediction"
   ]
  },
  {
   "cell_type": "code",
   "execution_count": null,
   "metadata": {},
   "outputs": [],
   "source": [
    "# frame_dict = {}\n",
    "# frame_dict['ApplicantID'] = test_id\n",
    "# frame_dict['default_status'] = random_forest_prediction\n",
    "# frame = pd.DataFrame(frame_dict)\n",
    "\n",
    "# frame.to_csv('random_forest.csv', index= False)"
   ]
  },
  {
   "cell_type": "markdown",
   "metadata": {},
   "source": [
    "# Gradient Boosting Prediction"
   ]
  },
  {
   "cell_type": "code",
   "execution_count": null,
   "metadata": {},
   "outputs": [],
   "source": [
    "# frame_dict = {}\n",
    "# frame_dict['ApplicantID'] = test_id\n",
    "# frame_dict['default_status'] = gradient_boost_prediction\n",
    "# frame = pd.DataFrame(frame_dict)\n",
    "\n",
    "# frame.to_csv('gradient_boosting.csv', index= False)"
   ]
  },
  {
   "cell_type": "markdown",
   "metadata": {},
   "source": [
    "# XGB Prediction"
   ]
  },
  {
   "cell_type": "code",
   "execution_count": null,
   "metadata": {},
   "outputs": [],
   "source": [
    "frame_dict = {}\n",
    "frame_dict['ApplicantID'] = test_id\n",
    "frame_dict['xgb_prediction'] = xgb_prediction\n",
    "frame = pd.DataFrame(frame_dict)\n",
    "\n",
    "frame.to_csv('xgb2.csv', index= False)"
   ]
  },
  {
   "cell_type": "code",
   "execution_count": null,
   "metadata": {},
   "outputs": [],
   "source": []
  }
 ],
 "metadata": {
  "kernelspec": {
   "display_name": "Python 2",
   "language": "python",
   "name": "python2"
  },
  "language_info": {
   "codemirror_mode": {
    "name": "ipython",
    "version": 2
   },
   "file_extension": ".py",
   "mimetype": "text/x-python",
   "name": "python",
   "nbconvert_exporter": "python",
   "pygments_lexer": "ipython2",
   "version": "2.7.15"
  }
 },
 "nbformat": 4,
 "nbformat_minor": 2
}
